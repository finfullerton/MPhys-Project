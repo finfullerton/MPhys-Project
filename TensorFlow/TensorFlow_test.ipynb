{
 "cells": [
  {
   "cell_type": "code",
   "execution_count": 30,
   "metadata": {},
   "outputs": [
    {
     "name": "stdout",
     "output_type": "stream",
     "text": [
      "TensorFlow version: 2.16.2\n",
      "60000\n",
      "60000\n",
      "Epoch 1/5\n"
     ]
    },
    {
     "name": "stderr",
     "output_type": "stream",
     "text": [
      "2025-02-04 11:59:49.705356: W external/local_tsl/tsl/framework/cpu_allocator_impl.cc:83] Allocation of 188160000 exceeds 10% of free system memory.\n"
     ]
    },
    {
     "name": "stdout",
     "output_type": "stream",
     "text": [
      "\u001b[1m1875/1875\u001b[0m \u001b[32m━━━━━━━━━━━━━━━━━━━━\u001b[0m\u001b[37m\u001b[0m \u001b[1m7s\u001b[0m 3ms/step - accuracy: 0.8571 - loss: 0.4888\n",
      "Epoch 2/5\n",
      "\u001b[1m1875/1875\u001b[0m \u001b[32m━━━━━━━━━━━━━━━━━━━━\u001b[0m\u001b[37m\u001b[0m \u001b[1m6s\u001b[0m 3ms/step - accuracy: 0.9560 - loss: 0.1486\n",
      "Epoch 3/5\n",
      "\u001b[1m1875/1875\u001b[0m \u001b[32m━━━━━━━━━━━━━━━━━━━━\u001b[0m\u001b[37m\u001b[0m \u001b[1m5s\u001b[0m 3ms/step - accuracy: 0.9670 - loss: 0.1095\n",
      "Epoch 4/5\n",
      "\u001b[1m1875/1875\u001b[0m \u001b[32m━━━━━━━━━━━━━━━━━━━━\u001b[0m\u001b[37m\u001b[0m \u001b[1m5s\u001b[0m 3ms/step - accuracy: 0.9739 - loss: 0.0862\n",
      "Epoch 5/5\n",
      "\u001b[1m1875/1875\u001b[0m \u001b[32m━━━━━━━━━━━━━━━━━━━━\u001b[0m\u001b[37m\u001b[0m \u001b[1m5s\u001b[0m 3ms/step - accuracy: 0.9779 - loss: 0.0694\n",
      "313/313 - 1s - 2ms/step - accuracy: 0.9781 - loss: 0.0740\n"
     ]
    },
    {
     "data": {
      "text/plain": [
       "<tf.Tensor: shape=(5, 10), dtype=float32, numpy=\n",
       "array([[2.03314681e-08, 4.83377534e-08, 3.92304827e-07, 7.03299884e-05,\n",
       "        6.73340507e-12, 2.34623258e-07, 7.64043256e-12, 9.99925375e-01,\n",
       "        1.10905955e-06, 2.62901835e-06],\n",
       "       [3.78807499e-06, 1.76149435e-04, 9.99818385e-01, 1.37848906e-06,\n",
       "        1.70252045e-15, 6.30480343e-08, 1.56568007e-07, 4.90813466e-12,\n",
       "        1.77515489e-07, 8.33033946e-13],\n",
       "       [8.91103241e-07, 9.99307513e-01, 2.92343320e-05, 9.94784568e-06,\n",
       "        1.08272816e-05, 2.21826144e-06, 6.73250088e-06, 5.62445610e-04,\n",
       "        6.98104195e-05, 3.50249991e-07],\n",
       "       [9.99933839e-01, 2.45000447e-08, 4.50863399e-06, 4.65057752e-08,\n",
       "        5.76944146e-08, 4.49380479e-07, 1.80983043e-05, 3.36939156e-05,\n",
       "        2.64746003e-08, 9.26324719e-06],\n",
       "       [9.97601205e-07, 2.47160847e-09, 5.47074615e-06, 2.41940281e-08,\n",
       "        9.99754846e-01, 1.04645814e-07, 8.67208564e-06, 1.57806880e-05,\n",
       "        5.19126888e-06, 2.08859783e-04]], dtype=float32)>"
      ]
     },
     "execution_count": 30,
     "metadata": {},
     "output_type": "execute_result"
    }
   ],
   "source": [
    "import tensorflow as tf\n",
    "import numpy as np\n",
    "print(\"TensorFlow version:\", tf.__version__)\n",
    "\n",
    "mnist = tf.keras.datasets.mnist #Loads dataset\n",
    "(x_train, y_train), (x_test, y_test) = mnist.load_data()\n",
    "x_train, x_test = x_train / 255.0, x_test / 255.0\n",
    "\n",
    "#print(\"Training data shape:\", x_train)\n",
    "\n",
    "model = tf.keras.models.Sequential([ #Defines sequential model\n",
    "  tf.keras.layers.Flatten(input_shape=(28, 28)), #Flattens input\n",
    "  tf.keras.layers.Dense(128, activation='relu'), #Dense layer with 128 neurons\n",
    "  tf.keras.layers.Dropout(0.2), #Dropout layer\n",
    "  tf.keras.layers.Dense(10) #Dense layer with 10 neurons\n",
    "])\n",
    "\n",
    "predictions = model(x_train[:1]).numpy() #Inputs first training data into model\n",
    "predictions #Prints predictions\n",
    "\n",
    "tf.nn.softmax(predictions).numpy() #Prints softmax of predictions (probability)\n",
    "\n",
    "loss_fn = tf.keras.losses.SparseCategoricalCrossentropy(from_logits=True) #Defines loss function\n",
    "loss_fn(y_train[:1], predictions).numpy() #Calculates loss\n",
    "\n",
    "model.compile(optimizer='adam', #Compiles model\n",
    "              loss=loss_fn,\n",
    "              metrics=['accuracy']) \n",
    "\n",
    "print(len(y_train))\n",
    "print(len(x_train))\n",
    "\n",
    "model.fit(x_train, y_train, epochs=5) #Fits model to training data\n",
    "model.evaluate(x_test,  y_test, verbose=2) #Evaluates model on test data\n",
    "\n",
    "probability_model = tf.keras.Sequential([ #Defines probability model\n",
    "  model,\n",
    "  tf.keras.layers.Softmax()\n",
    "])\n",
    "\n",
    "probability_model(x_test[:5]) #Prints probabilities of first 5 test data"
   ]
  }
 ],
 "metadata": {
  "kernelspec": {
   "display_name": "Python 3",
   "language": "python",
   "name": "python3"
  },
  "language_info": {
   "codemirror_mode": {
    "name": "ipython",
    "version": 3
   },
   "file_extension": ".py",
   "mimetype": "text/x-python",
   "name": "python",
   "nbconvert_exporter": "python",
   "pygments_lexer": "ipython3",
   "version": "3.11.10"
  }
 },
 "nbformat": 4,
 "nbformat_minor": 2
}
